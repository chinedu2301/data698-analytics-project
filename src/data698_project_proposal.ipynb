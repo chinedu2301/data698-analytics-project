{
 "cells": [
  {
   "cell_type": "markdown",
   "metadata": {
    "application/vnd.databricks.v1+cell": {
     "cellMetadata": {
      "byteLimit": 2048000,
      "rowLimit": 10000
     },
     "inputWidgets": {},
     "nuid": "7087df08-968d-4371-8216-7c75e922ab43",
     "showTitle": false,
     "title": ""
    }
   },
   "source": [
    "### CUNY SPS DATA 698 Project Proposal\n",
    "\n",
    "#### Name: Chinedu Onyeka\n",
    "#### Date: September 30th, 2023"
   ]
  },
  {
   "cell_type": "markdown",
   "metadata": {
    "application/vnd.databricks.v1+cell": {
     "cellMetadata": {
      "byteLimit": 2048000,
      "rowLimit": 10000
     },
     "inputWidgets": {},
     "nuid": "2cd47744-2b62-4813-b922-480334e7427b",
     "showTitle": false,
     "title": ""
    }
   },
   "source": [
    "#### Libraries"
   ]
  },
  {
   "cell_type": "code",
   "execution_count": 0,
   "metadata": {
    "application/vnd.databricks.v1+cell": {
     "cellMetadata": {
      "byteLimit": 2048000,
      "rowLimit": 10000
     },
     "inputWidgets": {},
     "nuid": "3ac199a7-8e97-42f0-9b5f-7735f5e0f5ad",
     "showTitle": false,
     "title": ""
    }
   },
   "outputs": [],
   "source": [
    "# libraries\n",
    "from pyspark.sql.types import *\n",
    "from pyspark.sql.functions import *\n",
    "from datetime import datetime\n",
    "import pandas as pd\n",
    "import matplotlib.pyplot as plt\n",
    "import seaborn as sns\n",
    "import warnings\n",
    "warnings.filterwarnings(\"ignore\")\n",
    "\n",
    "%matplotlib inline"
   ]
  },
  {
   "cell_type": "markdown",
   "metadata": {
    "application/vnd.databricks.v1+cell": {
     "cellMetadata": {
      "byteLimit": 2048000,
      "rowLimit": 10000
     },
     "inputWidgets": {},
     "nuid": "cc668a71-9c8d-4625-9074-54abc013b566",
     "showTitle": false,
     "title": ""
    }
   },
   "source": [
    "#### Data"
   ]
  },
  {
   "cell_type": "code",
   "execution_count": 0,
   "metadata": {
    "application/vnd.databricks.v1+cell": {
     "cellMetadata": {
      "byteLimit": 2048000,
      "rowLimit": 10000
     },
     "inputWidgets": {},
     "nuid": "adbc55a7-2342-4a8a-a6fb-78b4ac4ce1dc",
     "showTitle": false,
     "title": ""
    }
   },
   "outputs": [],
   "source": [
    "# variables\n",
    "train_raw_path = \"https://raw.githubusercontent.com/chinedu2301/data698-analytics-project/main/data/vehicle_default_train_data.csv\""
   ]
  },
  {
   "cell_type": "code",
   "execution_count": 0,
   "metadata": {
    "application/vnd.databricks.v1+cell": {
     "cellMetadata": {
      "byteLimit": 2048000,
      "rowLimit": 10000
     },
     "inputWidgets": {},
     "nuid": "937e3ee3-5f3b-4ed0-9cd4-7a148230729a",
     "showTitle": false,
     "title": ""
    }
   },
   "outputs": [],
   "source": [
    "# read file from github\n",
    "vehicle_default_train_raw = pd.read_csv(train_raw_path)\n",
    "vehicle_default_train_raw_df = spark.createDataFrame(vehicle_default_train_raw)"
   ]
  },
  {
   "cell_type": "code",
   "execution_count": 0,
   "metadata": {
    "application/vnd.databricks.v1+cell": {
     "cellMetadata": {
      "byteLimit": 2048000,
      "rowLimit": 10000
     },
     "inputWidgets": {},
     "nuid": "c1b0a094-ab71-4895-83df-47e60a406af3",
     "showTitle": false,
     "title": ""
    }
   },
   "outputs": [
    {
     "output_type": "display_data",
     "data": {
      "text/html": [
       "<div>\n",
       "<style scoped>\n",
       "    .dataframe tbody tr th:only-of-type {\n",
       "        vertical-align: middle;\n",
       "    }\n",
       "\n",
       "    .dataframe tbody tr th {\n",
       "        vertical-align: top;\n",
       "    }\n",
       "\n",
       "    .dataframe thead th {\n",
       "        text-align: right;\n",
       "    }\n",
       "</style>\n",
       "<table border=\"1\" class=\"dataframe\">\n",
       "  <thead>\n",
       "    <tr style=\"text-align: right;\">\n",
       "      <th></th>\n",
       "      <th>UNIQUEID</th>\n",
       "      <th>DISBURSED_AMOUNT</th>\n",
       "      <th>ASSET_COST</th>\n",
       "      <th>LTV</th>\n",
       "      <th>BRANCH_ID</th>\n",
       "      <th>SUPPLIER_ID</th>\n",
       "      <th>MANUFACTURER_ID</th>\n",
       "      <th>CURRENT_PINCODE_ID</th>\n",
       "      <th>DATE_OF_BIRTH</th>\n",
       "      <th>EMPLOYMENT_TYPE</th>\n",
       "      <th>...</th>\n",
       "      <th>SEC_SANCTIONED_AMOUNT</th>\n",
       "      <th>SEC_DISBURSED_AMOUNT</th>\n",
       "      <th>PRIMARY_INSTAL_AMT</th>\n",
       "      <th>SEC_INSTAL_AMT</th>\n",
       "      <th>NEW_ACCTS_IN_LAST_SIX_MONTHS</th>\n",
       "      <th>DELINQUENT_ACCTS_IN_LAST_SIX_MONTHS</th>\n",
       "      <th>AVERAGE_ACCT_AGE</th>\n",
       "      <th>CREDIT_HISTORY_LENGTH</th>\n",
       "      <th>NO_OF_INQUIRIES</th>\n",
       "      <th>LOAN_DEFAULT</th>\n",
       "    </tr>\n",
       "  </thead>\n",
       "  <tbody>\n",
       "    <tr>\n",
       "      <th>0</th>\n",
       "      <td>420825</td>\n",
       "      <td>50578</td>\n",
       "      <td>58400</td>\n",
       "      <td>89.55</td>\n",
       "      <td>67</td>\n",
       "      <td>22807</td>\n",
       "      <td>45</td>\n",
       "      <td>1441</td>\n",
       "      <td>01-01-1984</td>\n",
       "      <td>Salaried</td>\n",
       "      <td>...</td>\n",
       "      <td>0</td>\n",
       "      <td>0</td>\n",
       "      <td>0</td>\n",
       "      <td>0</td>\n",
       "      <td>0</td>\n",
       "      <td>0</td>\n",
       "      <td>0yrs 0mon</td>\n",
       "      <td>0yrs 0mon</td>\n",
       "      <td>0</td>\n",
       "      <td>0</td>\n",
       "    </tr>\n",
       "    <tr>\n",
       "      <th>1</th>\n",
       "      <td>537409</td>\n",
       "      <td>47145</td>\n",
       "      <td>65550</td>\n",
       "      <td>73.23</td>\n",
       "      <td>67</td>\n",
       "      <td>22807</td>\n",
       "      <td>45</td>\n",
       "      <td>1502</td>\n",
       "      <td>31-07-1985</td>\n",
       "      <td>Self employed</td>\n",
       "      <td>...</td>\n",
       "      <td>0</td>\n",
       "      <td>0</td>\n",
       "      <td>1991</td>\n",
       "      <td>0</td>\n",
       "      <td>0</td>\n",
       "      <td>1</td>\n",
       "      <td>1yrs 11mon</td>\n",
       "      <td>1yrs 11mon</td>\n",
       "      <td>0</td>\n",
       "      <td>1</td>\n",
       "    </tr>\n",
       "    <tr>\n",
       "      <th>2</th>\n",
       "      <td>417566</td>\n",
       "      <td>53278</td>\n",
       "      <td>61360</td>\n",
       "      <td>89.63</td>\n",
       "      <td>67</td>\n",
       "      <td>22807</td>\n",
       "      <td>45</td>\n",
       "      <td>1497</td>\n",
       "      <td>24-08-1985</td>\n",
       "      <td>Self employed</td>\n",
       "      <td>...</td>\n",
       "      <td>0</td>\n",
       "      <td>0</td>\n",
       "      <td>0</td>\n",
       "      <td>0</td>\n",
       "      <td>0</td>\n",
       "      <td>0</td>\n",
       "      <td>0yrs 0mon</td>\n",
       "      <td>0yrs 0mon</td>\n",
       "      <td>0</td>\n",
       "      <td>0</td>\n",
       "    </tr>\n",
       "    <tr>\n",
       "      <th>3</th>\n",
       "      <td>624493</td>\n",
       "      <td>57513</td>\n",
       "      <td>66113</td>\n",
       "      <td>88.48</td>\n",
       "      <td>67</td>\n",
       "      <td>22807</td>\n",
       "      <td>45</td>\n",
       "      <td>1501</td>\n",
       "      <td>30-12-1993</td>\n",
       "      <td>Self employed</td>\n",
       "      <td>...</td>\n",
       "      <td>0</td>\n",
       "      <td>0</td>\n",
       "      <td>31</td>\n",
       "      <td>0</td>\n",
       "      <td>0</td>\n",
       "      <td>0</td>\n",
       "      <td>0yrs 8mon</td>\n",
       "      <td>1yrs 3mon</td>\n",
       "      <td>1</td>\n",
       "      <td>1</td>\n",
       "    </tr>\n",
       "    <tr>\n",
       "      <th>4</th>\n",
       "      <td>539055</td>\n",
       "      <td>52378</td>\n",
       "      <td>60300</td>\n",
       "      <td>88.39</td>\n",
       "      <td>67</td>\n",
       "      <td>22807</td>\n",
       "      <td>45</td>\n",
       "      <td>1495</td>\n",
       "      <td>09-12-1977</td>\n",
       "      <td>Self employed</td>\n",
       "      <td>...</td>\n",
       "      <td>0</td>\n",
       "      <td>0</td>\n",
       "      <td>0</td>\n",
       "      <td>0</td>\n",
       "      <td>0</td>\n",
       "      <td>0</td>\n",
       "      <td>0yrs 0mon</td>\n",
       "      <td>0yrs 0mon</td>\n",
       "      <td>1</td>\n",
       "      <td>1</td>\n",
       "    </tr>\n",
       "    <tr>\n",
       "      <th>5</th>\n",
       "      <td>518279</td>\n",
       "      <td>54513</td>\n",
       "      <td>61900</td>\n",
       "      <td>89.66</td>\n",
       "      <td>67</td>\n",
       "      <td>22807</td>\n",
       "      <td>45</td>\n",
       "      <td>1501</td>\n",
       "      <td>08-09-1990</td>\n",
       "      <td>Self employed</td>\n",
       "      <td>...</td>\n",
       "      <td>0</td>\n",
       "      <td>0</td>\n",
       "      <td>1347</td>\n",
       "      <td>0</td>\n",
       "      <td>0</td>\n",
       "      <td>0</td>\n",
       "      <td>1yrs 9mon</td>\n",
       "      <td>2yrs 0mon</td>\n",
       "      <td>0</td>\n",
       "      <td>0</td>\n",
       "    </tr>\n",
       "    <tr>\n",
       "      <th>6</th>\n",
       "      <td>529269</td>\n",
       "      <td>46349</td>\n",
       "      <td>61500</td>\n",
       "      <td>76.42</td>\n",
       "      <td>67</td>\n",
       "      <td>22807</td>\n",
       "      <td>45</td>\n",
       "      <td>1502</td>\n",
       "      <td>01-06-1988</td>\n",
       "      <td>Salaried</td>\n",
       "      <td>...</td>\n",
       "      <td>0</td>\n",
       "      <td>0</td>\n",
       "      <td>0</td>\n",
       "      <td>0</td>\n",
       "      <td>0</td>\n",
       "      <td>0</td>\n",
       "      <td>0yrs 0mon</td>\n",
       "      <td>0yrs 0mon</td>\n",
       "      <td>0</td>\n",
       "      <td>0</td>\n",
       "    </tr>\n",
       "    <tr>\n",
       "      <th>7</th>\n",
       "      <td>510278</td>\n",
       "      <td>43894</td>\n",
       "      <td>61900</td>\n",
       "      <td>71.89</td>\n",
       "      <td>67</td>\n",
       "      <td>22807</td>\n",
       "      <td>45</td>\n",
       "      <td>1501</td>\n",
       "      <td>04-10-1989</td>\n",
       "      <td>Salaried</td>\n",
       "      <td>...</td>\n",
       "      <td>0</td>\n",
       "      <td>0</td>\n",
       "      <td>0</td>\n",
       "      <td>0</td>\n",
       "      <td>0</td>\n",
       "      <td>0</td>\n",
       "      <td>0yrs 2mon</td>\n",
       "      <td>0yrs 2mon</td>\n",
       "      <td>0</td>\n",
       "      <td>0</td>\n",
       "    </tr>\n",
       "    <tr>\n",
       "      <th>8</th>\n",
       "      <td>490213</td>\n",
       "      <td>53713</td>\n",
       "      <td>61973</td>\n",
       "      <td>89.56</td>\n",
       "      <td>67</td>\n",
       "      <td>22807</td>\n",
       "      <td>45</td>\n",
       "      <td>1497</td>\n",
       "      <td>15-11-1991</td>\n",
       "      <td>Self employed</td>\n",
       "      <td>...</td>\n",
       "      <td>0</td>\n",
       "      <td>0</td>\n",
       "      <td>0</td>\n",
       "      <td>0</td>\n",
       "      <td>0</td>\n",
       "      <td>0</td>\n",
       "      <td>4yrs 8mon</td>\n",
       "      <td>4yrs 8mon</td>\n",
       "      <td>1</td>\n",
       "      <td>0</td>\n",
       "    </tr>\n",
       "    <tr>\n",
       "      <th>9</th>\n",
       "      <td>510980</td>\n",
       "      <td>52603</td>\n",
       "      <td>61300</td>\n",
       "      <td>86.95</td>\n",
       "      <td>67</td>\n",
       "      <td>22807</td>\n",
       "      <td>45</td>\n",
       "      <td>1492</td>\n",
       "      <td>01-06-1968</td>\n",
       "      <td>Salaried</td>\n",
       "      <td>...</td>\n",
       "      <td>0</td>\n",
       "      <td>0</td>\n",
       "      <td>2608</td>\n",
       "      <td>0</td>\n",
       "      <td>0</td>\n",
       "      <td>0</td>\n",
       "      <td>1yrs 7mon</td>\n",
       "      <td>1yrs 7mon</td>\n",
       "      <td>0</td>\n",
       "      <td>0</td>\n",
       "    </tr>\n",
       "  </tbody>\n",
       "</table>\n",
       "<p>10 rows × 41 columns</p>\n",
       "</div>"
      ]
     },
     "metadata": {
      "application/vnd.databricks.v1+output": {
       "addedWidgets": {},
       "arguments": {},
       "data": "<div>\n<style scoped>\n    .dataframe tbody tr th:only-of-type {\n        vertical-align: middle;\n    }\n\n    .dataframe tbody tr th {\n        vertical-align: top;\n    }\n\n    .dataframe thead th {\n        text-align: right;\n    }\n</style>\n<table border=\"1\" class=\"dataframe\">\n  <thead>\n    <tr style=\"text-align: right;\">\n      <th></th>\n      <th>UNIQUEID</th>\n      <th>DISBURSED_AMOUNT</th>\n      <th>ASSET_COST</th>\n      <th>LTV</th>\n      <th>BRANCH_ID</th>\n      <th>SUPPLIER_ID</th>\n      <th>MANUFACTURER_ID</th>\n      <th>CURRENT_PINCODE_ID</th>\n      <th>DATE_OF_BIRTH</th>\n      <th>EMPLOYMENT_TYPE</th>\n      <th>...</th>\n      <th>SEC_SANCTIONED_AMOUNT</th>\n      <th>SEC_DISBURSED_AMOUNT</th>\n      <th>PRIMARY_INSTAL_AMT</th>\n      <th>SEC_INSTAL_AMT</th>\n      <th>NEW_ACCTS_IN_LAST_SIX_MONTHS</th>\n      <th>DELINQUENT_ACCTS_IN_LAST_SIX_MONTHS</th>\n      <th>AVERAGE_ACCT_AGE</th>\n      <th>CREDIT_HISTORY_LENGTH</th>\n      <th>NO_OF_INQUIRIES</th>\n      <th>LOAN_DEFAULT</th>\n    </tr>\n  </thead>\n  <tbody>\n    <tr>\n      <th>0</th>\n      <td>420825</td>\n      <td>50578</td>\n      <td>58400</td>\n      <td>89.55</td>\n      <td>67</td>\n      <td>22807</td>\n      <td>45</td>\n      <td>1441</td>\n      <td>01-01-1984</td>\n      <td>Salaried</td>\n      <td>...</td>\n      <td>0</td>\n      <td>0</td>\n      <td>0</td>\n      <td>0</td>\n      <td>0</td>\n      <td>0</td>\n      <td>0yrs 0mon</td>\n      <td>0yrs 0mon</td>\n      <td>0</td>\n      <td>0</td>\n    </tr>\n    <tr>\n      <th>1</th>\n      <td>537409</td>\n      <td>47145</td>\n      <td>65550</td>\n      <td>73.23</td>\n      <td>67</td>\n      <td>22807</td>\n      <td>45</td>\n      <td>1502</td>\n      <td>31-07-1985</td>\n      <td>Self employed</td>\n      <td>...</td>\n      <td>0</td>\n      <td>0</td>\n      <td>1991</td>\n      <td>0</td>\n      <td>0</td>\n      <td>1</td>\n      <td>1yrs 11mon</td>\n      <td>1yrs 11mon</td>\n      <td>0</td>\n      <td>1</td>\n    </tr>\n    <tr>\n      <th>2</th>\n      <td>417566</td>\n      <td>53278</td>\n      <td>61360</td>\n      <td>89.63</td>\n      <td>67</td>\n      <td>22807</td>\n      <td>45</td>\n      <td>1497</td>\n      <td>24-08-1985</td>\n      <td>Self employed</td>\n      <td>...</td>\n      <td>0</td>\n      <td>0</td>\n      <td>0</td>\n      <td>0</td>\n      <td>0</td>\n      <td>0</td>\n      <td>0yrs 0mon</td>\n      <td>0yrs 0mon</td>\n      <td>0</td>\n      <td>0</td>\n    </tr>\n    <tr>\n      <th>3</th>\n      <td>624493</td>\n      <td>57513</td>\n      <td>66113</td>\n      <td>88.48</td>\n      <td>67</td>\n      <td>22807</td>\n      <td>45</td>\n      <td>1501</td>\n      <td>30-12-1993</td>\n      <td>Self employed</td>\n      <td>...</td>\n      <td>0</td>\n      <td>0</td>\n      <td>31</td>\n      <td>0</td>\n      <td>0</td>\n      <td>0</td>\n      <td>0yrs 8mon</td>\n      <td>1yrs 3mon</td>\n      <td>1</td>\n      <td>1</td>\n    </tr>\n    <tr>\n      <th>4</th>\n      <td>539055</td>\n      <td>52378</td>\n      <td>60300</td>\n      <td>88.39</td>\n      <td>67</td>\n      <td>22807</td>\n      <td>45</td>\n      <td>1495</td>\n      <td>09-12-1977</td>\n      <td>Self employed</td>\n      <td>...</td>\n      <td>0</td>\n      <td>0</td>\n      <td>0</td>\n      <td>0</td>\n      <td>0</td>\n      <td>0</td>\n      <td>0yrs 0mon</td>\n      <td>0yrs 0mon</td>\n      <td>1</td>\n      <td>1</td>\n    </tr>\n    <tr>\n      <th>5</th>\n      <td>518279</td>\n      <td>54513</td>\n      <td>61900</td>\n      <td>89.66</td>\n      <td>67</td>\n      <td>22807</td>\n      <td>45</td>\n      <td>1501</td>\n      <td>08-09-1990</td>\n      <td>Self employed</td>\n      <td>...</td>\n      <td>0</td>\n      <td>0</td>\n      <td>1347</td>\n      <td>0</td>\n      <td>0</td>\n      <td>0</td>\n      <td>1yrs 9mon</td>\n      <td>2yrs 0mon</td>\n      <td>0</td>\n      <td>0</td>\n    </tr>\n    <tr>\n      <th>6</th>\n      <td>529269</td>\n      <td>46349</td>\n      <td>61500</td>\n      <td>76.42</td>\n      <td>67</td>\n      <td>22807</td>\n      <td>45</td>\n      <td>1502</td>\n      <td>01-06-1988</td>\n      <td>Salaried</td>\n      <td>...</td>\n      <td>0</td>\n      <td>0</td>\n      <td>0</td>\n      <td>0</td>\n      <td>0</td>\n      <td>0</td>\n      <td>0yrs 0mon</td>\n      <td>0yrs 0mon</td>\n      <td>0</td>\n      <td>0</td>\n    </tr>\n    <tr>\n      <th>7</th>\n      <td>510278</td>\n      <td>43894</td>\n      <td>61900</td>\n      <td>71.89</td>\n      <td>67</td>\n      <td>22807</td>\n      <td>45</td>\n      <td>1501</td>\n      <td>04-10-1989</td>\n      <td>Salaried</td>\n      <td>...</td>\n      <td>0</td>\n      <td>0</td>\n      <td>0</td>\n      <td>0</td>\n      <td>0</td>\n      <td>0</td>\n      <td>0yrs 2mon</td>\n      <td>0yrs 2mon</td>\n      <td>0</td>\n      <td>0</td>\n    </tr>\n    <tr>\n      <th>8</th>\n      <td>490213</td>\n      <td>53713</td>\n      <td>61973</td>\n      <td>89.56</td>\n      <td>67</td>\n      <td>22807</td>\n      <td>45</td>\n      <td>1497</td>\n      <td>15-11-1991</td>\n      <td>Self employed</td>\n      <td>...</td>\n      <td>0</td>\n      <td>0</td>\n      <td>0</td>\n      <td>0</td>\n      <td>0</td>\n      <td>0</td>\n      <td>4yrs 8mon</td>\n      <td>4yrs 8mon</td>\n      <td>1</td>\n      <td>0</td>\n    </tr>\n    <tr>\n      <th>9</th>\n      <td>510980</td>\n      <td>52603</td>\n      <td>61300</td>\n      <td>86.95</td>\n      <td>67</td>\n      <td>22807</td>\n      <td>45</td>\n      <td>1492</td>\n      <td>01-06-1968</td>\n      <td>Salaried</td>\n      <td>...</td>\n      <td>0</td>\n      <td>0</td>\n      <td>2608</td>\n      <td>0</td>\n      <td>0</td>\n      <td>0</td>\n      <td>1yrs 7mon</td>\n      <td>1yrs 7mon</td>\n      <td>0</td>\n      <td>0</td>\n    </tr>\n  </tbody>\n</table>\n<p>10 rows × 41 columns</p>\n</div>",
       "datasetInfos": [],
       "metadata": {},
       "removedWidgets": [],
       "textData": null,
       "type": "htmlSandbox"
      }
     },
     "output_type": "display_data"
    }
   ],
   "source": [
    "vehicle_default_train_raw.head(10)"
   ]
  },
  {
   "cell_type": "markdown",
   "metadata": {
    "application/vnd.databricks.v1+cell": {
     "cellMetadata": {
      "byteLimit": 2048000,
      "rowLimit": 10000
     },
     "inputWidgets": {},
     "nuid": "3335b44d-f0b3-49f2-8f52-45f356efb9ea",
     "showTitle": false,
     "title": ""
    }
   },
   "source": [
    "We can see that the data will need some pre-processing and cleaning."
   ]
  },
  {
   "cell_type": "code",
   "execution_count": 0,
   "metadata": {
    "application/vnd.databricks.v1+cell": {
     "cellMetadata": {
      "byteLimit": 2048000,
      "rowLimit": 10000
     },
     "inputWidgets": {},
     "nuid": "3d88bd0b-0aa0-406c-90a3-b1a34138fae6",
     "showTitle": false,
     "title": ""
    }
   },
   "outputs": [
    {
     "output_type": "stream",
     "name": "stdout",
     "output_type": "stream",
     "text": [
      "<class 'pandas.core.frame.DataFrame'>\nRangeIndex: 233154 entries, 0 to 233153\nData columns (total 41 columns):\n #   Column                               Non-Null Count   Dtype  \n---  ------                               --------------   -----  \n 0   UNIQUEID                             233154 non-null  int64  \n 1   DISBURSED_AMOUNT                     233154 non-null  int64  \n 2   ASSET_COST                           233154 non-null  int64  \n 3   LTV                                  233154 non-null  float64\n 4   BRANCH_ID                            233154 non-null  int64  \n 5   SUPPLIER_ID                          233154 non-null  int64  \n 6   MANUFACTURER_ID                      233154 non-null  int64  \n 7   CURRENT_PINCODE_ID                   233154 non-null  int64  \n 8   DATE_OF_BIRTH                        233154 non-null  object \n 9   EMPLOYMENT_TYPE                      225493 non-null  object \n 10  DISBURSAL_DATE                       233154 non-null  object \n 11  STATE_ID                             233154 non-null  int64  \n 12  EMPLOYEE_CODE_ID                     233154 non-null  int64  \n 13  MOBILENO_AVL_FLAG                    233154 non-null  int64  \n 14  AADHAR_FLAG                          233154 non-null  int64  \n 15  PAN_FLAG                             233154 non-null  int64  \n 16  VOTERID_FLAG                         233154 non-null  int64  \n 17  DRIVING_FLAG                         233154 non-null  int64  \n 18  PASSPORT_FLAG                        233154 non-null  int64  \n 19  PERFORM_CNS_SCORE                    233154 non-null  int64  \n 20  PERFORM_CNS_SCORE_DESCRIPTION        233154 non-null  object \n 21  PRI_NO_OF_ACCTS                      233154 non-null  int64  \n 22  PRI_ACTIVE_ACCTS                     233154 non-null  int64  \n 23  PRI_OVERDUE_ACCTS                    233154 non-null  int64  \n 24  PRI_CURRENT_BALANCE                  233154 non-null  int64  \n 25  PRI_SANCTIONED_AMOUNT                233154 non-null  int64  \n 26  PRI_DISBURSED_AMOUNT                 233154 non-null  int64  \n 27  SEC_NO_OF_ACCTS                      233154 non-null  int64  \n 28  SEC_ACTIVE_ACCTS                     233154 non-null  int64  \n 29  SEC_OVERDUE_ACCTS                    233154 non-null  int64  \n 30  SEC_CURRENT_BALANCE                  233154 non-null  int64  \n 31  SEC_SANCTIONED_AMOUNT                233154 non-null  int64  \n 32  SEC_DISBURSED_AMOUNT                 233154 non-null  int64  \n 33  PRIMARY_INSTAL_AMT                   233154 non-null  int64  \n 34  SEC_INSTAL_AMT                       233154 non-null  int64  \n 35  NEW_ACCTS_IN_LAST_SIX_MONTHS         233154 non-null  int64  \n 36  DELINQUENT_ACCTS_IN_LAST_SIX_MONTHS  233154 non-null  int64  \n 37  AVERAGE_ACCT_AGE                     233154 non-null  object \n 38  CREDIT_HISTORY_LENGTH                233154 non-null  object \n 39  NO_OF_INQUIRIES                      233154 non-null  int64  \n 40  LOAN_DEFAULT                         233154 non-null  int64  \ndtypes: float64(1), int64(34), object(6)\nmemory usage: 72.9+ MB\n"
     ]
    }
   ],
   "source": [
    "# view the columns and data type for the data\n",
    "vehicle_default_train_raw.info()"
   ]
  },
  {
   "cell_type": "code",
   "execution_count": 0,
   "metadata": {
    "application/vnd.databricks.v1+cell": {
     "cellMetadata": {
      "byteLimit": 2048000,
      "rowLimit": 10000
     },
     "inputWidgets": {},
     "nuid": "2d6048a9-3fba-42f5-8e34-733b6c191302",
     "showTitle": false,
     "title": ""
    }
   },
   "outputs": [
    {
     "output_type": "stream",
     "name": "stdout",
     "output_type": "stream",
     "text": [
      "Out[49]: (233154, 41)"
     ]
    }
   ],
   "source": [
    "vehicle_default_train_raw.shape"
   ]
  },
  {
   "cell_type": "markdown",
   "metadata": {
    "application/vnd.databricks.v1+cell": {
     "cellMetadata": {
      "byteLimit": 2048000,
      "rowLimit": 10000
     },
     "inputWidgets": {},
     "nuid": "6c0f97c7-651b-4cee-b5ed-18c75f8f7afb",
     "showTitle": false,
     "title": ""
    }
   },
   "source": [
    "There are 41 columns and 233,154 rows in the data. There are 40 predictor variables and 1 response variable. The response variable is binary (1, 0) where 1 indicate a loan default and 0 indicate no-loan default. The data dictionary for the data can be found [here](https://github.com/chinedu2301/data698-analytics-project/blob/main/data/data_dictionary.xlsx)"
   ]
  },
  {
   "cell_type": "markdown",
   "metadata": {
    "application/vnd.databricks.v1+cell": {
     "cellMetadata": {
      "byteLimit": 2048000,
      "rowLimit": 10000
     },
     "inputWidgets": {},
     "nuid": "8caa233d-d215-406b-923a-4dc6ab93a767",
     "showTitle": false,
     "title": ""
    }
   },
   "source": [
    "#### Research Question\n",
    "This project aims to develop a machine learning model that will predict whether a borrower will default or not. Being able to determine whether a borrower will default on their auto-loan would help the business determine whether to extend credit or not thereby helping the business to minimize losses due to a borrower not being able to meet up with their auto-payments. Also, it would help the business to extend credit/loan to those who would not default. This way, the business can be sure to a certain degree that customers who apply for loan get the right decision that will be beneficial to the business."
   ]
  },
  {
   "cell_type": "markdown",
   "metadata": {
    "application/vnd.databricks.v1+cell": {
     "cellMetadata": {
      "byteLimit": 2048000,
      "rowLimit": 10000
     },
     "inputWidgets": {},
     "nuid": "832dbecd-ce53-4371-a44b-119cfe7936c5",
     "showTitle": false,
     "title": ""
    }
   },
   "source": [
    "#### Data Source\n",
    "The data was gotten from kaggle and it's available in my github account here for the [train](https://github.com/chinedu2301/data698-analytics-project/blob/main/data/vehicle_default_train_data.csv) and [test](https://github.com/chinedu2301/data698-analytics-project/blob/main/data/vehicle_default_test_data.csv) data"
   ]
  },
  {
   "cell_type": "markdown",
   "metadata": {
    "application/vnd.databricks.v1+cell": {
     "cellMetadata": {
      "byteLimit": 2048000,
      "rowLimit": 10000
     },
     "inputWidgets": {},
     "nuid": "2314b7a3-5300-4f92-8b18-e0c5efa5e4db",
     "showTitle": false,
     "title": ""
    }
   },
   "source": [
    "#### Relevant Statistics"
   ]
  },
  {
   "cell_type": "code",
   "execution_count": 0,
   "metadata": {
    "application/vnd.databricks.v1+cell": {
     "cellMetadata": {
      "byteLimit": 2048000,
      "rowLimit": 10000
     },
     "inputWidgets": {},
     "nuid": "54744b7f-372e-48f1-9ffa-ac3e179cb66e",
     "showTitle": false,
     "title": ""
    }
   },
   "outputs": [
    {
     "output_type": "display_data",
     "data": {
      "text/html": [
       "<div>\n",
       "<style scoped>\n",
       "    .dataframe tbody tr th:only-of-type {\n",
       "        vertical-align: middle;\n",
       "    }\n",
       "\n",
       "    .dataframe tbody tr th {\n",
       "        vertical-align: top;\n",
       "    }\n",
       "\n",
       "    .dataframe thead th {\n",
       "        text-align: right;\n",
       "    }\n",
       "</style>\n",
       "<table border=\"1\" class=\"dataframe\">\n",
       "  <thead>\n",
       "    <tr style=\"text-align: right;\">\n",
       "      <th></th>\n",
       "      <th>UNIQUEID</th>\n",
       "      <th>DISBURSED_AMOUNT</th>\n",
       "      <th>ASSET_COST</th>\n",
       "      <th>LTV</th>\n",
       "      <th>BRANCH_ID</th>\n",
       "      <th>SUPPLIER_ID</th>\n",
       "      <th>MANUFACTURER_ID</th>\n",
       "      <th>CURRENT_PINCODE_ID</th>\n",
       "      <th>STATE_ID</th>\n",
       "      <th>EMPLOYEE_CODE_ID</th>\n",
       "      <th>...</th>\n",
       "      <th>SEC_OVERDUE_ACCTS</th>\n",
       "      <th>SEC_CURRENT_BALANCE</th>\n",
       "      <th>SEC_SANCTIONED_AMOUNT</th>\n",
       "      <th>SEC_DISBURSED_AMOUNT</th>\n",
       "      <th>PRIMARY_INSTAL_AMT</th>\n",
       "      <th>SEC_INSTAL_AMT</th>\n",
       "      <th>NEW_ACCTS_IN_LAST_SIX_MONTHS</th>\n",
       "      <th>DELINQUENT_ACCTS_IN_LAST_SIX_MONTHS</th>\n",
       "      <th>NO_OF_INQUIRIES</th>\n",
       "      <th>LOAN_DEFAULT</th>\n",
       "    </tr>\n",
       "  </thead>\n",
       "  <tbody>\n",
       "    <tr>\n",
       "      <th>count</th>\n",
       "      <td>233154.000000</td>\n",
       "      <td>233154.000000</td>\n",
       "      <td>2.331540e+05</td>\n",
       "      <td>233154.000000</td>\n",
       "      <td>233154.000000</td>\n",
       "      <td>233154.000000</td>\n",
       "      <td>233154.000000</td>\n",
       "      <td>233154.000000</td>\n",
       "      <td>233154.000000</td>\n",
       "      <td>233154.000000</td>\n",
       "      <td>...</td>\n",
       "      <td>233154.000000</td>\n",
       "      <td>2.331540e+05</td>\n",
       "      <td>2.331540e+05</td>\n",
       "      <td>2.331540e+05</td>\n",
       "      <td>2.331540e+05</td>\n",
       "      <td>2.331540e+05</td>\n",
       "      <td>233154.000000</td>\n",
       "      <td>233154.000000</td>\n",
       "      <td>233154.000000</td>\n",
       "      <td>233154.000000</td>\n",
       "    </tr>\n",
       "    <tr>\n",
       "      <th>mean</th>\n",
       "      <td>535917.573376</td>\n",
       "      <td>54356.993528</td>\n",
       "      <td>7.586507e+04</td>\n",
       "      <td>74.746530</td>\n",
       "      <td>72.936094</td>\n",
       "      <td>19638.635035</td>\n",
       "      <td>69.028054</td>\n",
       "      <td>3396.880247</td>\n",
       "      <td>7.262243</td>\n",
       "      <td>1549.477148</td>\n",
       "      <td>...</td>\n",
       "      <td>0.007244</td>\n",
       "      <td>5.427793e+03</td>\n",
       "      <td>7.295923e+03</td>\n",
       "      <td>7.179998e+03</td>\n",
       "      <td>1.310548e+04</td>\n",
       "      <td>3.232684e+02</td>\n",
       "      <td>0.381833</td>\n",
       "      <td>0.097481</td>\n",
       "      <td>0.206615</td>\n",
       "      <td>0.217071</td>\n",
       "    </tr>\n",
       "    <tr>\n",
       "      <th>std</th>\n",
       "      <td>68315.693711</td>\n",
       "      <td>12971.314171</td>\n",
       "      <td>1.894478e+04</td>\n",
       "      <td>11.456636</td>\n",
       "      <td>69.834995</td>\n",
       "      <td>3491.949566</td>\n",
       "      <td>22.141304</td>\n",
       "      <td>2238.147502</td>\n",
       "      <td>4.482230</td>\n",
       "      <td>975.261278</td>\n",
       "      <td>...</td>\n",
       "      <td>0.111079</td>\n",
       "      <td>1.702370e+05</td>\n",
       "      <td>1.831560e+05</td>\n",
       "      <td>1.825925e+05</td>\n",
       "      <td>1.513679e+05</td>\n",
       "      <td>1.555369e+04</td>\n",
       "      <td>0.955107</td>\n",
       "      <td>0.384439</td>\n",
       "      <td>0.706498</td>\n",
       "      <td>0.412252</td>\n",
       "    </tr>\n",
       "    <tr>\n",
       "      <th>min</th>\n",
       "      <td>417428.000000</td>\n",
       "      <td>13320.000000</td>\n",
       "      <td>3.700000e+04</td>\n",
       "      <td>10.030000</td>\n",
       "      <td>1.000000</td>\n",
       "      <td>10524.000000</td>\n",
       "      <td>45.000000</td>\n",
       "      <td>1.000000</td>\n",
       "      <td>1.000000</td>\n",
       "      <td>1.000000</td>\n",
       "      <td>...</td>\n",
       "      <td>0.000000</td>\n",
       "      <td>-5.746470e+05</td>\n",
       "      <td>0.000000e+00</td>\n",
       "      <td>0.000000e+00</td>\n",
       "      <td>0.000000e+00</td>\n",
       "      <td>0.000000e+00</td>\n",
       "      <td>0.000000</td>\n",
       "      <td>0.000000</td>\n",
       "      <td>0.000000</td>\n",
       "      <td>0.000000</td>\n",
       "    </tr>\n",
       "    <tr>\n",
       "      <th>25%</th>\n",
       "      <td>476786.250000</td>\n",
       "      <td>47145.000000</td>\n",
       "      <td>6.571700e+04</td>\n",
       "      <td>68.880000</td>\n",
       "      <td>14.000000</td>\n",
       "      <td>16535.000000</td>\n",
       "      <td>48.000000</td>\n",
       "      <td>1511.000000</td>\n",
       "      <td>4.000000</td>\n",
       "      <td>713.000000</td>\n",
       "      <td>...</td>\n",
       "      <td>0.000000</td>\n",
       "      <td>0.000000e+00</td>\n",
       "      <td>0.000000e+00</td>\n",
       "      <td>0.000000e+00</td>\n",
       "      <td>0.000000e+00</td>\n",
       "      <td>0.000000e+00</td>\n",
       "      <td>0.000000</td>\n",
       "      <td>0.000000</td>\n",
       "      <td>0.000000</td>\n",
       "      <td>0.000000</td>\n",
       "    </tr>\n",
       "    <tr>\n",
       "      <th>50%</th>\n",
       "      <td>535978.500000</td>\n",
       "      <td>53803.000000</td>\n",
       "      <td>7.094600e+04</td>\n",
       "      <td>76.800000</td>\n",
       "      <td>61.000000</td>\n",
       "      <td>20333.000000</td>\n",
       "      <td>86.000000</td>\n",
       "      <td>2970.000000</td>\n",
       "      <td>6.000000</td>\n",
       "      <td>1451.000000</td>\n",
       "      <td>...</td>\n",
       "      <td>0.000000</td>\n",
       "      <td>0.000000e+00</td>\n",
       "      <td>0.000000e+00</td>\n",
       "      <td>0.000000e+00</td>\n",
       "      <td>0.000000e+00</td>\n",
       "      <td>0.000000e+00</td>\n",
       "      <td>0.000000</td>\n",
       "      <td>0.000000</td>\n",
       "      <td>0.000000</td>\n",
       "      <td>0.000000</td>\n",
       "    </tr>\n",
       "    <tr>\n",
       "      <th>75%</th>\n",
       "      <td>595039.750000</td>\n",
       "      <td>60413.000000</td>\n",
       "      <td>7.920175e+04</td>\n",
       "      <td>83.670000</td>\n",
       "      <td>130.000000</td>\n",
       "      <td>23000.000000</td>\n",
       "      <td>86.000000</td>\n",
       "      <td>5677.000000</td>\n",
       "      <td>10.000000</td>\n",
       "      <td>2362.000000</td>\n",
       "      <td>...</td>\n",
       "      <td>0.000000</td>\n",
       "      <td>0.000000e+00</td>\n",
       "      <td>0.000000e+00</td>\n",
       "      <td>0.000000e+00</td>\n",
       "      <td>1.999000e+03</td>\n",
       "      <td>0.000000e+00</td>\n",
       "      <td>0.000000</td>\n",
       "      <td>0.000000</td>\n",
       "      <td>0.000000</td>\n",
       "      <td>0.000000</td>\n",
       "    </tr>\n",
       "    <tr>\n",
       "      <th>max</th>\n",
       "      <td>671084.000000</td>\n",
       "      <td>990572.000000</td>\n",
       "      <td>1.628992e+06</td>\n",
       "      <td>95.000000</td>\n",
       "      <td>261.000000</td>\n",
       "      <td>24803.000000</td>\n",
       "      <td>156.000000</td>\n",
       "      <td>7345.000000</td>\n",
       "      <td>22.000000</td>\n",
       "      <td>3795.000000</td>\n",
       "      <td>...</td>\n",
       "      <td>8.000000</td>\n",
       "      <td>3.603285e+07</td>\n",
       "      <td>3.000000e+07</td>\n",
       "      <td>3.000000e+07</td>\n",
       "      <td>2.564281e+07</td>\n",
       "      <td>4.170901e+06</td>\n",
       "      <td>35.000000</td>\n",
       "      <td>20.000000</td>\n",
       "      <td>36.000000</td>\n",
       "      <td>1.000000</td>\n",
       "    </tr>\n",
       "  </tbody>\n",
       "</table>\n",
       "<p>8 rows × 35 columns</p>\n",
       "</div>"
      ]
     },
     "metadata": {
      "application/vnd.databricks.v1+output": {
       "addedWidgets": {},
       "arguments": {},
       "data": "<div>\n<style scoped>\n    .dataframe tbody tr th:only-of-type {\n        vertical-align: middle;\n    }\n\n    .dataframe tbody tr th {\n        vertical-align: top;\n    }\n\n    .dataframe thead th {\n        text-align: right;\n    }\n</style>\n<table border=\"1\" class=\"dataframe\">\n  <thead>\n    <tr style=\"text-align: right;\">\n      <th></th>\n      <th>UNIQUEID</th>\n      <th>DISBURSED_AMOUNT</th>\n      <th>ASSET_COST</th>\n      <th>LTV</th>\n      <th>BRANCH_ID</th>\n      <th>SUPPLIER_ID</th>\n      <th>MANUFACTURER_ID</th>\n      <th>CURRENT_PINCODE_ID</th>\n      <th>STATE_ID</th>\n      <th>EMPLOYEE_CODE_ID</th>\n      <th>...</th>\n      <th>SEC_OVERDUE_ACCTS</th>\n      <th>SEC_CURRENT_BALANCE</th>\n      <th>SEC_SANCTIONED_AMOUNT</th>\n      <th>SEC_DISBURSED_AMOUNT</th>\n      <th>PRIMARY_INSTAL_AMT</th>\n      <th>SEC_INSTAL_AMT</th>\n      <th>NEW_ACCTS_IN_LAST_SIX_MONTHS</th>\n      <th>DELINQUENT_ACCTS_IN_LAST_SIX_MONTHS</th>\n      <th>NO_OF_INQUIRIES</th>\n      <th>LOAN_DEFAULT</th>\n    </tr>\n  </thead>\n  <tbody>\n    <tr>\n      <th>count</th>\n      <td>233154.000000</td>\n      <td>233154.000000</td>\n      <td>2.331540e+05</td>\n      <td>233154.000000</td>\n      <td>233154.000000</td>\n      <td>233154.000000</td>\n      <td>233154.000000</td>\n      <td>233154.000000</td>\n      <td>233154.000000</td>\n      <td>233154.000000</td>\n      <td>...</td>\n      <td>233154.000000</td>\n      <td>2.331540e+05</td>\n      <td>2.331540e+05</td>\n      <td>2.331540e+05</td>\n      <td>2.331540e+05</td>\n      <td>2.331540e+05</td>\n      <td>233154.000000</td>\n      <td>233154.000000</td>\n      <td>233154.000000</td>\n      <td>233154.000000</td>\n    </tr>\n    <tr>\n      <th>mean</th>\n      <td>535917.573376</td>\n      <td>54356.993528</td>\n      <td>7.586507e+04</td>\n      <td>74.746530</td>\n      <td>72.936094</td>\n      <td>19638.635035</td>\n      <td>69.028054</td>\n      <td>3396.880247</td>\n      <td>7.262243</td>\n      <td>1549.477148</td>\n      <td>...</td>\n      <td>0.007244</td>\n      <td>5.427793e+03</td>\n      <td>7.295923e+03</td>\n      <td>7.179998e+03</td>\n      <td>1.310548e+04</td>\n      <td>3.232684e+02</td>\n      <td>0.381833</td>\n      <td>0.097481</td>\n      <td>0.206615</td>\n      <td>0.217071</td>\n    </tr>\n    <tr>\n      <th>std</th>\n      <td>68315.693711</td>\n      <td>12971.314171</td>\n      <td>1.894478e+04</td>\n      <td>11.456636</td>\n      <td>69.834995</td>\n      <td>3491.949566</td>\n      <td>22.141304</td>\n      <td>2238.147502</td>\n      <td>4.482230</td>\n      <td>975.261278</td>\n      <td>...</td>\n      <td>0.111079</td>\n      <td>1.702370e+05</td>\n      <td>1.831560e+05</td>\n      <td>1.825925e+05</td>\n      <td>1.513679e+05</td>\n      <td>1.555369e+04</td>\n      <td>0.955107</td>\n      <td>0.384439</td>\n      <td>0.706498</td>\n      <td>0.412252</td>\n    </tr>\n    <tr>\n      <th>min</th>\n      <td>417428.000000</td>\n      <td>13320.000000</td>\n      <td>3.700000e+04</td>\n      <td>10.030000</td>\n      <td>1.000000</td>\n      <td>10524.000000</td>\n      <td>45.000000</td>\n      <td>1.000000</td>\n      <td>1.000000</td>\n      <td>1.000000</td>\n      <td>...</td>\n      <td>0.000000</td>\n      <td>-5.746470e+05</td>\n      <td>0.000000e+00</td>\n      <td>0.000000e+00</td>\n      <td>0.000000e+00</td>\n      <td>0.000000e+00</td>\n      <td>0.000000</td>\n      <td>0.000000</td>\n      <td>0.000000</td>\n      <td>0.000000</td>\n    </tr>\n    <tr>\n      <th>25%</th>\n      <td>476786.250000</td>\n      <td>47145.000000</td>\n      <td>6.571700e+04</td>\n      <td>68.880000</td>\n      <td>14.000000</td>\n      <td>16535.000000</td>\n      <td>48.000000</td>\n      <td>1511.000000</td>\n      <td>4.000000</td>\n      <td>713.000000</td>\n      <td>...</td>\n      <td>0.000000</td>\n      <td>0.000000e+00</td>\n      <td>0.000000e+00</td>\n      <td>0.000000e+00</td>\n      <td>0.000000e+00</td>\n      <td>0.000000e+00</td>\n      <td>0.000000</td>\n      <td>0.000000</td>\n      <td>0.000000</td>\n      <td>0.000000</td>\n    </tr>\n    <tr>\n      <th>50%</th>\n      <td>535978.500000</td>\n      <td>53803.000000</td>\n      <td>7.094600e+04</td>\n      <td>76.800000</td>\n      <td>61.000000</td>\n      <td>20333.000000</td>\n      <td>86.000000</td>\n      <td>2970.000000</td>\n      <td>6.000000</td>\n      <td>1451.000000</td>\n      <td>...</td>\n      <td>0.000000</td>\n      <td>0.000000e+00</td>\n      <td>0.000000e+00</td>\n      <td>0.000000e+00</td>\n      <td>0.000000e+00</td>\n      <td>0.000000e+00</td>\n      <td>0.000000</td>\n      <td>0.000000</td>\n      <td>0.000000</td>\n      <td>0.000000</td>\n    </tr>\n    <tr>\n      <th>75%</th>\n      <td>595039.750000</td>\n      <td>60413.000000</td>\n      <td>7.920175e+04</td>\n      <td>83.670000</td>\n      <td>130.000000</td>\n      <td>23000.000000</td>\n      <td>86.000000</td>\n      <td>5677.000000</td>\n      <td>10.000000</td>\n      <td>2362.000000</td>\n      <td>...</td>\n      <td>0.000000</td>\n      <td>0.000000e+00</td>\n      <td>0.000000e+00</td>\n      <td>0.000000e+00</td>\n      <td>1.999000e+03</td>\n      <td>0.000000e+00</td>\n      <td>0.000000</td>\n      <td>0.000000</td>\n      <td>0.000000</td>\n      <td>0.000000</td>\n    </tr>\n    <tr>\n      <th>max</th>\n      <td>671084.000000</td>\n      <td>990572.000000</td>\n      <td>1.628992e+06</td>\n      <td>95.000000</td>\n      <td>261.000000</td>\n      <td>24803.000000</td>\n      <td>156.000000</td>\n      <td>7345.000000</td>\n      <td>22.000000</td>\n      <td>3795.000000</td>\n      <td>...</td>\n      <td>8.000000</td>\n      <td>3.603285e+07</td>\n      <td>3.000000e+07</td>\n      <td>3.000000e+07</td>\n      <td>2.564281e+07</td>\n      <td>4.170901e+06</td>\n      <td>35.000000</td>\n      <td>20.000000</td>\n      <td>36.000000</td>\n      <td>1.000000</td>\n    </tr>\n  </tbody>\n</table>\n<p>8 rows × 35 columns</p>\n</div>",
       "datasetInfos": [],
       "metadata": {},
       "removedWidgets": [],
       "textData": null,
       "type": "htmlSandbox"
      }
     },
     "output_type": "display_data"
    }
   ],
   "source": [
    "vehicle_default_train_raw.describe()"
   ]
  },
  {
   "cell_type": "code",
   "execution_count": 0,
   "metadata": {
    "application/vnd.databricks.v1+cell": {
     "cellMetadata": {
      "byteLimit": 2048000,
      "rowLimit": 10000
     },
     "inputWidgets": {},
     "nuid": "21adc4bb-1c6b-46fb-af8a-b566999fb89a",
     "showTitle": false,
     "title": ""
    }
   },
   "outputs": [
    {
     "output_type": "stream",
     "name": "stdout",
     "output_type": "stream",
     "text": [
      "Out[51]: 0    182543\n1     50611\nName: LOAN_DEFAULT, dtype: int64"
     ]
    }
   ],
   "source": [
    "vehicle_default_train_raw[\"LOAN_DEFAULT\"].value_counts()"
   ]
  },
  {
   "cell_type": "code",
   "execution_count": 0,
   "metadata": {
    "application/vnd.databricks.v1+cell": {
     "cellMetadata": {
      "byteLimit": 2048000,
      "rowLimit": 10000
     },
     "inputWidgets": {},
     "nuid": "206a2cfc-bfa3-4bbb-9610-6f90e76d9b63",
     "showTitle": false,
     "title": ""
    }
   },
   "outputs": [
    {
     "output_type": "display_data",
     "data": {
      "image/png": "[encoded data removed]"
     },
     "metadata": {
      "application/vnd.databricks.v1+output": {
       "addedWidgets": {},
       "arguments": {},
       "data": "data:image/png;base64,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\n",
       "datasetInfos": [],
       "metadata": {},
       "removedWidgets": [],
       "type": "image"
      }
     },
     "output_type": "display_data"
    }
   ],
   "source": [
    "# Plot Loan Default Category counts\n",
    "loan_default_counts  = vehicle_default_train_raw[\"LOAN_DEFAULT\"].value_counts()\n",
    "plt.figure(figsize=(10,5))\n",
    "sns.barplot(loan_default_counts.index, loan_default_counts.values, alpha=0.8)\n",
    "plt.title('Count for Loan Default Category')\n",
    "plt.ylabel('Count', fontsize=12)\n",
    "plt.xlabel('Loan Default', fontsize=12)\n",
    "plt.show()"
   ]
  },
  {
   "cell_type": "markdown",
   "metadata": {
    "application/vnd.databricks.v1+cell": {
     "cellMetadata": {
      "byteLimit": 2048000,
      "rowLimit": 10000
     },
     "inputWidgets": {},
     "nuid": "1b1f5278-faba-4881-a3f0-73daf25124f5",
     "showTitle": false,
     "title": ""
    }
   },
   "source": [
    "We can see that there are way more records for \"0\" and we might need to do oversampling of the \"1\" rows to balance the data before training the model."
   ]
  }
 ],
 "metadata": {
  "application/vnd.databricks.v1+notebook": {
   "dashboards": [],
   "language": "python",
   "notebookMetadata": {
    "pythonIndentUnit": 4
   },
   "notebookName": "data698_project_proposal",
   "widgets": {}
  }
 },
 "nbformat": 4,
 "nbformat_minor": 0
}
